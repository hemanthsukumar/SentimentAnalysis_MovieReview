{
 "cells": [
  {
   "cell_type": "markdown",
   "metadata": {
    "id": "ynPRbJviL-39"
   },
   "source": [
    "# NLP with BERT for Sentiment Analysis"
   ]
  },
  {
   "cell_type": "markdown",
   "metadata": {
    "id": "Z82c-Fcay0a3"
   },
   "source": [
    "### Importing the libraries"
   ]
  },
  {
   "cell_type": "code",
   "execution_count": null,
   "metadata": {
    "id": "f-wb1pNr8-GZ"
   },
   "outputs": [],
   "source": [
    "import os.path\n",
    "import numpy as np\n",
    "import tensorflow as tf\n",
    "import ktrain\n",
    "from ktrain import text"
   ]
  },
  {
   "cell_type": "code",
   "execution_count": null,
   "metadata": {
    "id": "_VP9d0xZ8BgQ"
   },
   "outputs": [],
   "source": [
    "data = tf.keras.utils.get_file(fname = 'aclImdb_v1.tar.gz',\n",
    "                                  origin = 'http://ai.stanford.edu/~amaas/data/sentiment/aclImdb_v1.tar.gz',\n",
    "                                  extract = True)\n",
    "\n",
    "imbd_directory = os.path.join(os.path.dirname(data), 'Imdbdataset')"
   ]
  },
  {
   "cell_type": "code",
   "execution_count": null,
   "metadata": {
    "colab": {
     "base_uri": "https://localhost:8080/"
    },
    "id": "fW4qVceTDdml",
    "outputId": "a3dd6e13-2033-40a1-8210-90d4223a3e17"
   },
   "outputs": [
    {
     "name": "stdout",
     "output_type": "stream",
     "text": [
      "/Users/sathwik/.keras/datasets\n",
      "/Users/sathwik/.keras/datasets/Imdbdataset\n"
     ]
    }
   ],
   "source": [
    "print(os.path.dirname(data))\n",
    "print(imbd_directory)"
   ]
  },
  {
   "cell_type": "code",
   "execution_count": null,
   "metadata": {
    "id": "oo7g5amEPYNe",
    "outputId": "6f600341-9215-441c-a403-1e23891406ae"
   },
   "outputs": [
    {
     "name": "stdout",
     "output_type": "stream",
     "text": [
      "detected encoding: utf-8\n",
      "downloading pretrained BERT model (uncased_L-12_H-768_A-12.zip)...\n",
      "[██████████████████████████████████████████████████]\n",
      "extracting pretrained BERT model...\n",
      "done.\n",
      "\n",
      "cleanup downloaded zip...\n",
      "done.\n",
      "\n",
      "preprocessing train...\n",
      "language: en\n"
     ]
    },
    {
     "data": {
      "text/html": [
       "\n",
       "<style>\n",
       "    /* Turns off some styling */\n",
       "    progress {\n",
       "        /* gets rid of default border in Firefox and Opera. */\n",
       "        border: none;\n",
       "        /* Needs to be in here for Safari polyfill so background images work as expected. */\n",
       "        background-size: auto;\n",
       "    }\n",
       "    progress:not([value]), progress:not([value])::-webkit-progress-bar {\n",
       "        background: repeating-linear-gradient(45deg, #7e7e7e, #7e7e7e 10px, #5c5c5c 10px, #5c5c5c 20px);\n",
       "    }\n",
       "    .progress-bar-interrupted, .progress-bar-interrupted::-webkit-progress-bar {\n",
       "        background: #F44336;\n",
       "    }\n",
       "</style>\n"
      ],
      "text/plain": [
       "<IPython.core.display.HTML object>"
      ]
     },
     "metadata": {},
     "output_type": "display_data"
    },
    {
     "data": {
      "text/html": [
       "done."
      ],
      "text/plain": [
       "<IPython.core.display.HTML object>"
      ]
     },
     "metadata": {},
     "output_type": "display_data"
    },
    {
     "name": "stdout",
     "output_type": "stream",
     "text": [
      "Is Multi-Label? False\n",
      "preprocessing test...\n",
      "language: en\n"
     ]
    },
    {
     "data": {
      "text/html": [
       "\n",
       "<style>\n",
       "    /* Turns off some styling */\n",
       "    progress {\n",
       "        /* gets rid of default border in Firefox and Opera. */\n",
       "        border: none;\n",
       "        /* Needs to be in here for Safari polyfill so background images work as expected. */\n",
       "        background-size: auto;\n",
       "    }\n",
       "    progress:not([value]), progress:not([value])::-webkit-progress-bar {\n",
       "        background: repeating-linear-gradient(45deg, #7e7e7e, #7e7e7e 10px, #5c5c5c 10px, #5c5c5c 20px);\n",
       "    }\n",
       "    .progress-bar-interrupted, .progress-bar-interrupted::-webkit-progress-bar {\n",
       "        background: #F44336;\n",
       "    }\n",
       "</style>\n"
      ],
      "text/plain": [
       "<IPython.core.display.HTML object>"
      ]
     },
     "metadata": {},
     "output_type": "display_data"
    },
    {
     "data": {
      "text/html": [
       "done."
      ],
      "text/plain": [
       "<IPython.core.display.HTML object>"
      ]
     },
     "metadata": {},
     "output_type": "display_data"
    }
   ],
   "source": [
    "# Define data directory and classes\n",
    "datadir = '/Users/sathwik/Downloads/aclImdb'\n",
    "classes = ['pos', 'neg']\n",
    "train_test_names = ['train', 'test']\n",
    "preprocess_mode = 'bert'\n",
    "maxlen = 500\n",
    "\n",
    "# Load data and preprocess\n",
    "(X_Train, Y_Train), (X_Test, Y_Test), preproc = text.texts_from_folder(datadir=datadir,\n",
    "                                                                       classes=classes,\n",
    "                                                                       maxlen=maxlen,\n",
    "                                                                       train_test_names=train_test_names,\n",
    "                                                                       preprocess_mode=preprocess_mode)\n"
   ]
  },
  {
   "cell_type": "code",
   "execution_count": null,
   "metadata": {
    "colab": {
     "base_uri": "https://localhost:8080/"
    },
    "id": "I02GeOoMM4YU",
    "outputId": "cf8b308e-c029-478e-f4b7-19a0e519cf20"
   },
   "outputs": [
    {
     "name": "stdout",
     "output_type": "stream",
     "text": [
      "Is Multi-Label? False\n",
      "maxlen is 500\n"
     ]
    },
    {
     "name": "stderr",
     "output_type": "stream",
     "text": [
      "/opt/anaconda3/lib/python3.11/site-packages/tf_keras/src/initializers/initializers.py:121: UserWarning: The initializer GlorotNormal is unseeded and being called multiple times, which will return identical values each time (even if the initializer is unseeded). Please update your code to provide a seed to the initializer, or avoid using the same initializer instance more than once.\n",
      "  warnings.warn(\n"
     ]
    },
    {
     "name": "stdout",
     "output_type": "stream",
     "text": [
      "done.\n"
     ]
    }
   ],
   "source": [
    "# Define model\n",
    "model = text.text_classifier(name='bert',\n",
    "                              train_data=(X_Train, Y_Train),\n",
    "                              preproc=preproc)\n"
   ]
  },
  {
   "cell_type": "code",
   "execution_count": null,
   "metadata": {
    "id": "FVLckDi3M4_S"
   },
   "outputs": [],
   "source": [
    "# Define data\n",
    "train_data = (X_Train, Y_Train)\n",
    "val_data = (X_Test, Y_Test)\n",
    "batch_size = 6\n",
    "\n",
    "# Create learner\n",
    "learner = ktrain.get_learner(model=model,\n",
    "                              train_data=train_data,\n",
    "                              val_data=val_data,\n",
    "                              batch_size=batch_size)\n"
   ]
  },
  {
   "cell_type": "code",
   "execution_count": null,
   "metadata": {
    "colab": {
     "base_uri": "https://localhost:8080/"
    },
    "id": "hFWv80b_ZzSf",
    "outputId": "ad48c82c-efcd-4eb0-c549-10ac83875e35"
   },
   "outputs": [
    {
     "name": "stdout",
     "output_type": "stream",
     "text": [
      "\n",
      "\n",
      "begin training using onecycle policy with max lr of 2e-05...\n",
      "4167/4167 [==============================] - 33475s 8s/step - loss: 0.2493 - accuracy: 0.8986 - val_loss: 0.1594 - val_accuracy: 0.9388\n"
     ]
    },
    {
     "data": {
      "text/plain": [
       "<tf_keras.src.callbacks.History at 0x3086400d0>"
      ]
     },
     "execution_count": 9,
     "metadata": {},
     "output_type": "execute_result"
    }
   ],
   "source": [
    "# Set learning rate and epochs\n",
    "lr = 2e-5\n",
    "epochs = 1\n",
    "\n",
    "# Train the model\n",
    "learner.fit_onecycle(lr=lr, epochs=epochs)\n"
   ]
  },
  {
   "cell_type": "code",
   "execution_count": null,
   "metadata": {
    "colab": {
     "base_uri": "https://localhost:8080/"
    },
    "id": "NFhiQjNNR5XZ",
    "outputId": "b3a05848-3e91-4cc3-c89b-db5adb438da9"
   },
   "outputs": [
    {
     "name": "stdout",
     "output_type": "stream",
     "text": [
      "782/782 [==============================] - 11102s 14s/step\n",
      "              precision    recall  f1-score   support\n",
      "\n",
      "         pos       0.94      0.93      0.94     12500\n",
      "         neg       0.93      0.94      0.94     12500\n",
      "\n",
      "    accuracy                           0.94     25000\n",
      "   macro avg       0.94      0.94      0.94     25000\n",
      "weighted avg       0.94      0.94      0.94     25000\n",
      "\n"
     ]
    }
   ],
   "source": [
    "# Define validation data and class names\n",
    "val_data = (X_Test, Y_Test)\n",
    "class_names = ['pos', 'neg']\n",
    "\n",
    "# Evaluate results\n",
    "evaluate_results = learn.validate(val_data=val_data, class_names=class_names)\n",
    "\n",
    "\n"
   ]
  },
  {
   "cell_type": "code",
   "execution_count": null,
   "metadata": {
    "id": "u0qwMEpsPYNf"
   },
   "outputs": [],
   "source": []
  }
 ],
 "metadata": {
  "accelerator": "GPU",
  "colab": {
   "provenance": []
  },
  "kernelspec": {
   "display_name": "Python 3 (ipykernel)",
   "language": "python",
   "name": "python3"
  },
  "language_info": {
   "codemirror_mode": {
    "name": "ipython",
    "version": 3
   },
   "file_extension": ".py",
   "mimetype": "text/x-python",
   "name": "python",
   "nbconvert_exporter": "python",
   "pygments_lexer": "ipython3",
   "version": "3.9.13"
  }
 },
 "nbformat": 4,
 "nbformat_minor": 1
}
