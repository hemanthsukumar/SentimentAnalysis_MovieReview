{
 "cells": [
  {
   "cell_type": "code",
   "execution_count": 2,
   "id": "ac3309ea",
   "metadata": {},
   "outputs": [],
   "source": [
    "import os\n",
    "import tarfile\n",
    "import urllib.request\n",
    "\n",
    "# Configuration for the data download\n",
    "data_url = \"http://ai.stanford.edu/~amaas/data/sentiment/aclImdb_v1.tar.gz\"\n",
    "local_filename = \"aclImdb_v1.tar.gz\"\n",
    "\n",
    "# Function to download the dataset\n",
    "def download_dataset(url, filename):\n",
    "    if not os.path.isfile(filename):\n",
    "        urllib.request.urlretrieve(url, filename)\n",
    "\n",
    "# Function to extract files from a tar.gz archive\n",
    "def extract_data(filename):\n",
    "    with tarfile.open(filename, mode='r:gz') as archive:\n",
    "        archive.extractall()\n",
    "\n",
    "# Executing the download and extraction process\n",
    "download_dataset(data_url, local_filename)\n",
    "extract_data(local_filename)"
   ]
  },
  {
   "cell_type": "code",
   "execution_count": 3,
   "id": "fecd86bb",
   "metadata": {},
   "outputs": [],
   "source": [
    "import os\n",
    "import pandas as pd\n",
    "\n",
    "def read_text_files(directory, sentiment):\n",
    "    data = []\n",
    "    for file in os.listdir(directory):\n",
    "        if file.endswith('.txt'):\n",
    "            with open(os.path.join(directory, file), 'r', encoding='utf-8') as f:\n",
    "                data.append((f.read(), sentiment))\n",
    "    return data\n",
    "\n",
    "def create_dataframe(data_directory):\n",
    "    combined_data = []\n",
    "    for sentiment in ['pos', 'neg']:\n",
    "        sentiment_dir = os.path.join(data_directory, sentiment)\n",
    "        combined_data.extend(read_text_files(sentiment_dir, sentiment))\n",
    "    return pd.DataFrame(combined_data, columns=['text', 'label'])\n",
    "\n",
    "# Load and create DataFrame for training and testing data\n",
    "train_data_directory = 'aclImdb/train'  # Path to the training data\n",
    "test_data_directory = 'aclImdb/test'  # Path to the testing data\n",
    "\n",
    "train_df = create_dataframe(train_data_directory)\n",
    "test_df = create_dataframe(test_data_directory)\n"
   ]
  },
  {
   "cell_type": "code",
   "execution_count": 4,
   "id": "21aea340",
   "metadata": {},
   "outputs": [],
   "source": [
    "from sklearn.preprocessing import LabelEncoder\n",
    "\n",
    "# Function to apply label encoding to a DataFrame\n",
    "def encode_labels(dataframe, encoder, column_name='label'):\n",
    "    if not hasattr(encoder, 'classes_'):  # Check if encoder has been fitted\n",
    "        dataframe[f'{column_name}_encoded'] = encoder.fit_transform(dataframe[column_name])\n",
    "    else:\n",
    "        dataframe[f'{column_name}_encoded'] = encoder.transform(dataframe[column_name])\n",
    "\n",
    "# Initialize a label encoder\n",
    "encoder = LabelEncoder()\n",
    "\n",
    "# Apply the label encoding to both the training and testing datasets\n",
    "encode_labels(df, encoder, 'label')\n",
    "encode_labels(dftest, encoder, 'label')\n",
    "\n",
    "# Both dataframes now have a 'label_encoded' column with numerical labels\n"
   ]
  },
  {
   "cell_type": "code",
   "execution_count": 5,
   "id": "17ae5a43",
   "metadata": {},
   "outputs": [
    {
     "data": {
      "text/html": [
       "<div>\n",
       "<style scoped>\n",
       "    .dataframe tbody tr th:only-of-type {\n",
       "        vertical-align: middle;\n",
       "    }\n",
       "\n",
       "    .dataframe tbody tr th {\n",
       "        vertical-align: top;\n",
       "    }\n",
       "\n",
       "    .dataframe thead th {\n",
       "        text-align: right;\n",
       "    }\n",
       "</style>\n",
       "<table border=\"1\" class=\"dataframe\">\n",
       "  <thead>\n",
       "    <tr style=\"text-align: right;\">\n",
       "      <th></th>\n",
       "      <th>text</th>\n",
       "      <th>label</th>\n",
       "      <th>label_encoded</th>\n",
       "    </tr>\n",
       "  </thead>\n",
       "  <tbody>\n",
       "    <tr>\n",
       "      <th>0</th>\n",
       "      <td>For a movie that gets no respect there sure ar...</td>\n",
       "      <td>pos</td>\n",
       "      <td>1</td>\n",
       "    </tr>\n",
       "    <tr>\n",
       "      <th>1</th>\n",
       "      <td>Bizarre horror movie filled with famous faces ...</td>\n",
       "      <td>pos</td>\n",
       "      <td>1</td>\n",
       "    </tr>\n",
       "    <tr>\n",
       "      <th>2</th>\n",
       "      <td>A solid, if unremarkable film. Matthau, as Ein...</td>\n",
       "      <td>pos</td>\n",
       "      <td>1</td>\n",
       "    </tr>\n",
       "    <tr>\n",
       "      <th>3</th>\n",
       "      <td>It's a strange feeling to sit alone in a theat...</td>\n",
       "      <td>pos</td>\n",
       "      <td>1</td>\n",
       "    </tr>\n",
       "    <tr>\n",
       "      <th>4</th>\n",
       "      <td>You probably all already know this by now, but...</td>\n",
       "      <td>pos</td>\n",
       "      <td>1</td>\n",
       "    </tr>\n",
       "  </tbody>\n",
       "</table>\n",
       "</div>"
      ],
      "text/plain": [
       "                                                text label  label_encoded\n",
       "0  For a movie that gets no respect there sure ar...   pos              1\n",
       "1  Bizarre horror movie filled with famous faces ...   pos              1\n",
       "2  A solid, if unremarkable film. Matthau, as Ein...   pos              1\n",
       "3  It's a strange feeling to sit alone in a theat...   pos              1\n",
       "4  You probably all already know this by now, but...   pos              1"
      ]
     },
     "execution_count": 5,
     "metadata": {},
     "output_type": "execute_result"
    }
   ],
   "source": [
    "print(df.head())"
   ]
  },
  {
   "cell_type": "code",
   "execution_count": 6,
   "id": "dc69c4cb",
   "metadata": {},
   "outputs": [
    {
     "name": "stdout",
     "output_type": "stream",
     "text": [
      "                                                    text label  label_encoded\n",
      "0      Based on an actual story, John Boorman shows t...   pos              1\n",
      "1      This is a gem. As a Film Four production - the...   pos              1\n",
      "2      I really like this show. It has drama, romance...   pos              1\n",
      "3      This is the best 3-D experience Disney has at ...   pos              1\n",
      "4      Of the Korean movies I've seen, only three had...   pos              1\n",
      "...                                                  ...   ...            ...\n",
      "24995  With actors like Depardieu and Richard it is r...   neg              0\n",
      "24996  If you like to get a couple of fleeting glimps...   neg              0\n",
      "24997  When something can be anything you want it to ...   neg              0\n",
      "24998  I had heard good things about \"States of Grace...   neg              0\n",
      "24999  Well, this movie actually did have one redeemi...   neg              0\n",
      "\n",
      "[25000 rows x 3 columns]\n"
     ]
    }
   ],
   "source": [
    "print(dftest)"
   ]
  },
  {
   "cell_type": "code",
   "execution_count": 7,
   "id": "4bc17e10",
   "metadata": {},
   "outputs": [
    {
     "data": {
      "text/plain": [
       "array(['pos', 'neg'], dtype=object)"
      ]
     },
     "execution_count": 7,
     "metadata": {},
     "output_type": "execute_result"
    }
   ],
   "source": [
    "unique_labels = df['label'].unique()\n",
    "print(unique_labels)"
   ]
  },
  {
   "cell_type": "code",
   "execution_count": 8,
   "id": "30c81e51",
   "metadata": {},
   "outputs": [
    {
     "name": "stdout",
     "output_type": "stream",
     "text": [
      "                                                    text label  label_encoded\n",
      "0      Based on an actual story, John Boorman shows t...   pos              1\n",
      "1      This is a gem. As a Film Four production - the...   pos              1\n",
      "2      I really like this show. It has drama, romance...   pos              1\n",
      "3      This is the best 3-D experience Disney has at ...   pos              1\n",
      "4      Of the Korean movies I've seen, only three had...   pos              1\n",
      "...                                                  ...   ...            ...\n",
      "24995  With actors like Depardieu and Richard it is r...   neg              0\n",
      "24996  If you like to get a couple of fleeting glimps...   neg              0\n",
      "24997  When something can be anything you want it to ...   neg              0\n",
      "24998  I had heard good things about \"States of Grace...   neg              0\n",
      "24999  Well, this movie actually did have one redeemi...   neg              0\n",
      "\n",
      "[25000 rows x 3 columns]\n"
     ]
    }
   ],
   "source": [
    "print(dftest)"
   ]
  },
  {
   "cell_type": "code",
   "execution_count": 9,
   "id": "65fad307",
   "metadata": {},
   "outputs": [],
   "source": [
    "stopwords = ['i', 'me', 'my', 'myself', 'we', 'our', 'ours', 'ourselves', 'you', \"you're\", \"you've\", \n",
    "             \"you'll\", \"you'd\", 'your', 'yours', 'yourself', 'yourselves', \n",
    "             'he', 'him', 'his', 'himself', 'she', \"she's\", 'her', 'hers', \n",
    "             'herself', 'it', \"it's\", 'its', 'itself', 'they', 'them', 'their', \n",
    "             'theirs', 'themselves', 'what', 'which', 'who', 'whom', 'this', 'that', \n",
    "             \"that'll\", 'these', 'those', 'am', 'is', 'are', 'was', 'were', 'be', \n",
    "             'been', 'being', 'have', 'has', 'had', 'having', 'do', 'does', 'did', \n",
    "             'doing', 'a', 'an', 'the', 'and', 'but', 'if', 'or', 'because', 'as', \n",
    "             'until', 'while', 'of', 'at', 'by', 'for', 'with', 'about', 'against', \n",
    "             'between', 'into', 'through', 'during', 'before', 'after', 'above', 'below', \n",
    "             'to', 'from', 'up', 'down', 'in', 'out', 'on', 'off', 'over', 'under', 'again', \n",
    "             'further', 'then', 'once', 'here', 'there', 'when', 'where', 'why', 'how',\n",
    "             'all', 'any', 'both', 'each', 'few', 'more', 'most', 'other', 'some', 'such',\n",
    "             'no', 'nor', 'not', 'only', 'own', 'same', 'so', 'than', 'too', 'very', 's', 't',\n",
    "             'can', 'will', 'just', 'don', \"don't\", 'should', \"should've\", 'now', 'd', 'll', 'm',\n",
    "             'o', 're', 've', 'y', 'ain', 'aren', \"aren't\", 'couldn', \"couldn't\", 'didn', \"didn't\",\n",
    "             'doesn', \"doesn't\", 'hadn', \"hadn't\", 'hasn', \"hasn't\", 'haven', \"haven't\", 'isn', \n",
    "             \"isn't\", 'ma', 'mightn', \"mightn't\", 'mustn', \"mustn't\", 'needn', \"needn't\", 'shan', \n",
    "             \"shan't\", 'shouldn', \"shouldn't\", 'wasn', \"wasn't\", 'weren', \"weren't\", 'won', \"won't\", 'wouldn', \"wouldn't\"]"
   ]
  },
  {
   "cell_type": "code",
   "execution_count": 10,
   "id": "b70b6765",
   "metadata": {},
   "outputs": [],
   "source": [
    "import re\n",
    "\n",
    "def preprocess(text):\n",
    "    # Convert to lowercase\n",
    "    text = text.lower()\n",
    "    \n",
    "    # Remove URLs\n",
    "    text = re.sub(r'https?://\\S+|www\\.\\S+', '', text)\n",
    "    \n",
    "    # Remove HTML tags\n",
    "    text = re.sub(r'<.*?>', '', text)\n",
    "    \n",
    "    # Remove mentions and hashtags (in case of tweets or similar texts)\n",
    "    text = re.sub(r'@\\w+|#\\w+', '', text)\n",
    "    \n",
    "    # Remove punctuation and extra whitespace\n",
    "    text = re.sub(r'[^\\w\\s]', '', text)\n",
    "    \n",
    "    # Remove stopwords\n",
    "    text = ' '.join(word for word in text.split() if word not in stopwords)\n",
    "    \n",
    "    return text\n"
   ]
  },
  {
   "cell_type": "code",
   "execution_count": 11,
   "id": "469f135d",
   "metadata": {},
   "outputs": [
    {
     "name": "stdout",
     "output_type": "stream",
     "text": [
      "0        movie gets respect sure lot memorable quotes l...\n",
      "1        bizarre horror movie filled famous faces stole...\n",
      "2        solid unremarkable film matthau einstein wonde...\n",
      "3        strange feeling sit alone theater occupied par...\n",
      "4        probably already know 5 additional episodes ne...\n",
      "                               ...                        \n",
      "24995    comments may bit spoiler worth stop care enoug...\n",
      "24996    saucy misadventures four au pairs arrive londo...\n",
      "24997    oh italians assuming movies aristocrats weird ...\n",
      "24998    eight academy nominations beyond belief think ...\n",
      "24999    dislike childrens movies tearjerker redeeming ...\n",
      "Name: text, Length: 25000, dtype: object\n"
     ]
    }
   ],
   "source": [
    "trainDataPreprocess = df.copy()\n",
    "trainDataPreprocess['text'] = trainDataPreprocess['text'].apply(preprocess)\n",
    "# Print the processed text to verify changes\n",
    "print(trainDataPreprocess['text']);"
   ]
  },
  {
   "cell_type": "code",
   "execution_count": 12,
   "id": "835393ca",
   "metadata": {},
   "outputs": [
    {
     "name": "stdout",
     "output_type": "stream",
     "text": [
      "                                                    text label  label_encoded\n",
      "0      movie gets respect sure lot memorable quotes l...   pos              1\n",
      "1      bizarre horror movie filled famous faces stole...   pos              1\n",
      "2      solid unremarkable film matthau einstein wonde...   pos              1\n",
      "3      strange feeling sit alone theater occupied par...   pos              1\n",
      "4      probably already know 5 additional episodes ne...   pos              1\n",
      "...                                                  ...   ...            ...\n",
      "24995  comments may bit spoiler worth stop care enoug...   neg              0\n",
      "24996  saucy misadventures four au pairs arrive londo...   neg              0\n",
      "24997  oh italians assuming movies aristocrats weird ...   neg              0\n",
      "24998  eight academy nominations beyond belief think ...   neg              0\n",
      "24999  dislike childrens movies tearjerker redeeming ...   neg              0\n",
      "\n",
      "[25000 rows x 3 columns]\n"
     ]
    }
   ],
   "source": [
    "print(trainDataPreprocess)"
   ]
  },
  {
   "cell_type": "code",
   "execution_count": 13,
   "id": "2f45ab92",
   "metadata": {},
   "outputs": [
    {
     "name": "stdout",
     "output_type": "stream",
     "text": [
      "                                                text label  label_encoded\n",
      "0  im watching star world network overseas buys a...   pos              1\n",
      "1  undoubtedly best heavy metal horror item made ...   pos              1\n",
      "2  hey arnold slowpaced slightly boring movie plo...   neg              0\n",
      "3  movie like bad train wreck horrible still cont...   neg              0\n",
      "4  first lets agree lorenzo lamas could never con...   neg              0\n"
     ]
    }
   ],
   "source": [
    "import pandas as pd\n",
    "from sklearn.utils import shuffle\n",
    "\n",
    "\n",
    "trainDataPreprocess = shuffle(trainDataPreprocess)\n",
    "trainDataPreprocess.reset_index(drop=True, inplace=True)\n",
    "# Print the first few rows of the shuffled DataFrame\n",
    "print(trainDataPreprocess.head())"
   ]
  },
  {
   "cell_type": "code",
   "execution_count": 14,
   "id": "46519159",
   "metadata": {},
   "outputs": [
    {
     "name": "stdout",
     "output_type": "stream",
     "text": [
      "                                                text label  label_encoded\n",
      "0  william shakespeares plays classified comedy t...   pos              1\n",
      "1  perhaps movie little long still charm 45 years...   pos              1\n",
      "2  admittedly put model airplane black background...   neg              0\n",
      "3  many us find art agreeable masterpiece touches...   pos              1\n",
      "4  typically im comedy guy rented video store com...   pos              1\n"
     ]
    }
   ],
   "source": [
    "testDataPreprocess = dftest.copy()\n",
    "testDataPreprocess['text'] = testDataPreprocess['text'].apply(preprocess)\n",
    "\n",
    "import pandas as pd\n",
    "from sklearn.utils import shuffle\n",
    "\n",
    "\n",
    "testDataPreprocess = shuffle(testDataPreprocess)\n",
    "testDataPreprocess.reset_index(drop=True, inplace=True)\n",
    "# Print the first few rows of the shuffled and preprocessed DataFrame\n",
    "print(testDataPreprocess.head())"
   ]
  },
  {
   "cell_type": "code",
   "execution_count": 15,
   "id": "8993df5a",
   "metadata": {},
   "outputs": [],
   "source": [
    "import re\n",
    "from nltk.stem import WordNetLemmatizer\n",
    "\n",
    "# Initialize the WordNet Lemmatizer\n",
    "lemmatizer = WordNetLemmatizer()\n",
    "\n",
    "def clean_text(text):\n",
    "    # Remove HTML tags\n",
    "    text = re.sub('<.*?>', '', text)\n",
    "\n",
    "    # Lemmatize text\n",
    "    words = text.split()  # Split text into words\n",
    "    lemmatized_words = [lemmatizer.lemmatize(word) for word in words]  # Lemmatize each word\n",
    "    return ' '.join(lemmatized_words)  # Join words back to text\n",
    "\n",
    "# Apply the clean_text function to the 'text' columns\n",
    "trainDataPreprocess['text'] = trainDataPreprocess['text'].apply(clean_text)\n",
    "testDataPreprocess['text'] = testDataPreprocess['text'].apply(clean_text)"
   ]
  },
  {
   "cell_type": "code",
   "execution_count": 16,
   "id": "09f5e11d",
   "metadata": {},
   "outputs": [
    {
     "data": {
      "text/plain": [
       "0        im watching star world network overseas buys a...\n",
       "1        undoubtedly best heavy metal horror item made ...\n",
       "2        hey arnold slowpaced slightly boring movie plo...\n",
       "3        movie like bad train wreck horrible still cont...\n",
       "4        first lets agree lorenzo lamas could never con...\n",
       "                               ...                        \n",
       "24995    cheapest film made 21st century way low qualit...\n",
       "24996    movie contains personalities deliciously playi...\n",
       "24997    read great interest available comment made min...\n",
       "24998    usually dont write reviews cant understand rat...\n",
       "24999    show incredibly hilarious couldnt stop watchin...\n",
       "Name: text, Length: 25000, dtype: object"
      ]
     },
     "execution_count": 16,
     "metadata": {},
     "output_type": "execute_result"
    }
   ],
   "source": [
    "trainDataPreprocess['text']"
   ]
  },
  {
   "cell_type": "code",
   "execution_count": 17,
   "id": "2fca2e8c",
   "metadata": {},
   "outputs": [
    {
     "name": "stdout",
     "output_type": "stream",
     "text": [
      "24902\n"
     ]
    }
   ],
   "source": [
    "# Calculate the total number of unique words across all text entries in the DataFrame\n",
    "all_words = trainDataPreprocess['text'].str.split()  # Split each text into words\n",
    "unique_words = set(word for sublist in all_words for word in sublist)  # Flatten the list of lists and create a set of unique words\n",
    "count_unique_words = len(unique_words)  # Count the number of unique words\n",
    "\n",
    "print(count_unique_words)  # Print the count of unique words"
   ]
  },
  {
   "cell_type": "code",
   "execution_count": 18,
   "id": "ba7e4b41",
   "metadata": {},
   "outputs": [],
   "source": [
    "df_combined = pd.concat([df, dftest], ignore_index=True)"
   ]
  },
  {
   "cell_type": "code",
   "execution_count": 19,
   "id": "3061eefa",
   "metadata": {},
   "outputs": [
    {
     "data": {
      "text/plain": [
       "array(['pos', 'neg'], dtype=object)"
      ]
     },
     "execution_count": 19,
     "metadata": {},
     "output_type": "execute_result"
    }
   ],
   "source": [
    "df_combined['label'].unique()"
   ]
  },
  {
   "cell_type": "code",
   "execution_count": 20,
   "id": "d564c08e",
   "metadata": {},
   "outputs": [],
   "source": [
    "import numpy as np\n",
    "import pandas as pd\n",
    "from tensorflow.keras.preprocessing.text import Tokenizer\n",
    "from tensorflow.keras.preprocessing.sequence import pad_sequences\n",
    "from tensorflow.keras.models import Sequential\n",
    "from tensorflow.keras.layers import Embedding, Conv1D, MaxPooling1D, Flatten, Dense, Dropout\n",
    "from sklearn.model_selection import train_test_split"
   ]
  },
  {
   "cell_type": "code",
   "execution_count": 39,
   "id": "9186bf5b",
   "metadata": {},
   "outputs": [
    {
     "name": "stdout",
     "output_type": "stream",
     "text": [
      "24902\n"
     ]
    }
   ],
   "source": [
    "all_words = trainDataPreprocess['text'].str.split().explode()  # Split each text into words and flatten into one long series\n",
    "uniqueWords = set(all_words)  # Convert to set to get unique words\n",
    "countUnique = len(uniqueWords)  # Count unique words\n",
    "print(countUnique)"
   ]
  },
  {
   "cell_type": "code",
   "execution_count": 22,
   "id": "b9908993",
   "metadata": {},
   "outputs": [],
   "source": [
    "from collections import Counter\n",
    "from keras.preprocessing.text import Tokenizer\n",
    "\n",
    "max_features = 10000\n",
    "\n",
    "# Get top 10,000 most occurring words in the list\n",
    "results = Counter()\n",
    "trainDataPreprocess['text'].str.split().apply(results.update)\n",
    "vocabulary = [word for word, _ in results.most_common(max_features)]\n",
    "\n",
    "# Create tokenizer based on your top 10,000 words\n",
    "tokenizer = Tokenizer(num_words=max_features)\n",
    "tokenizer.fit_on_texts(trainDataPreprocess['text'])  # Fit on the actual texts\n",
    "\n",
    "# Now the tokenizer is ready to be used for converting text to sequences"
   ]
  },
  {
   "cell_type": "code",
   "execution_count": 23,
   "id": "92389bc2",
   "metadata": {},
   "outputs": [
    {
     "name": "stdout",
     "output_type": "stream",
     "text": [
      "[1 1 0 ... 1 0 1]\n",
      "[1 1 0 ... 1 0 0]\n"
     ]
    }
   ],
   "source": [
    "import numpy as np\n",
    "\n",
    "# Function to convert labels to integer codes\n",
    "def labels_to_codes(dataframe):\n",
    "    return np.int32(dataframe.label.astype('category').cat.codes.to_numpy())\n",
    "\n",
    "# Convert training and testing labels\n",
    "y = labels_to_codes(trainDataPreprocess)\n",
    "ytest = labels_to_codes(testDataPreprocess)\n",
    "\n",
    "# Determine the number of classes (assuming consistent labels across datasets)\n",
    "num_classes = len(np.unique(np.concatenate([y, ytest])))\n",
    "\n",
    "# Print results\n",
    "print(\"ytest (test labels):\", ytest)"
   ]
  },
  {
   "cell_type": "code",
   "execution_count": 24,
   "id": "c4e11191",
   "metadata": {},
   "outputs": [
    {
     "name": "stdout",
     "output_type": "stream",
     "text": [
      "0        im watching star world network overseas buys a...\n",
      "1        undoubtedly best heavy metal horror item made ...\n",
      "2        hey arnold slowpaced slightly boring movie plo...\n",
      "3        movie like bad train wreck horrible still cont...\n",
      "4        first lets agree lorenzo lamas could never con...\n",
      "                               ...                        \n",
      "49995    film produced producers releasing corp prc amo...\n",
      "49996    oh man movie amazing good story man isnt accep...\n",
      "49997    charge feather river routine western u cavalry...\n",
      "49998    legendary pop star steve alaimo dont let sun c...\n",
      "49999    disclaimer ventures foreign cinema taken likin...\n",
      "Name: text, Length: 50000, dtype: object\n"
     ]
    }
   ],
   "source": [
    "combined_data = pd.concat([trainDataPreprocess['text'], testDataPreprocess['text']], ignore_index=True)\n",
    "print(combined_data)"
   ]
  },
  {
   "cell_type": "code",
   "execution_count": 25,
   "id": "8a2ce563",
   "metadata": {},
   "outputs": [
    {
     "name": "stdout",
     "output_type": "stream",
     "text": [
      "[[   0    0    0 ...   30 1019  198]\n",
      " [   0    0    0 ... 7181  204 2664]\n",
      " [   0    0    0 ...  647   44  651]\n",
      " ...\n",
      " [   0    0    0 ...  819   27  410]\n",
      " [   0    0    0 ...  277  212   37]\n",
      " [   0    0    0 ... 1670  239 5763]]\n",
      "[[   0    0    0 ... 5313  586 4192]\n",
      " [   0    0    0 ... 5894  140  301]\n",
      " [   0    0    0 ...  367  339  730]\n",
      " ...\n",
      " [   0    0    0 ...  333 3457 5033]\n",
      " [   0    0    0 ... 1974 2514  224]\n",
      " [   0    0    0 ... 1526  230  284]]\n"
     ]
    }
   ],
   "source": [
    "X = tokenizer.texts_to_sequences(trainDataPreprocess['text'].values)\n",
    "X = pad_sequences(X)\n",
    "print(X)\n",
    "\n",
    "Xtest = tokenizer.texts_to_sequences(testDataPreprocess['text'].values)\n",
    "Xtest = pad_sequences(Xtest)\n",
    "print(Xtest)"
   ]
  },
  {
   "cell_type": "code",
   "execution_count": 26,
   "id": "96449a5e",
   "metadata": {},
   "outputs": [],
   "source": [
    "X_train, X_test, y_train, y_test = train_test_split(X, y, test_size=0.2, random_state=42)\n",
    "X_train, X_val, y_train, y_val = train_test_split(X_train, y_train, test_size=0.2, random_state=42)"
   ]
  },
  {
   "cell_type": "code",
   "execution_count": 27,
   "id": "487ad4da",
   "metadata": {},
   "outputs": [],
   "source": [
    "import tensorflow as tf\n",
    "\n",
    "from sklearn.model_selection import train_test_split\n",
    "from sklearn.metrics import accuracy_score, classification_report\n",
    "from collections import Counter\n",
    "\n",
    "from tensorflow.keras.preprocessing.text import Tokenizer\n",
    "from tensorflow.keras.preprocessing.sequence import pad_sequences\n",
    "\n",
    "import matplotlib.pyplot as plt\n",
    "plt.style.use('ggplot')\n",
    "\n",
    "import re\n",
    "from nltk.stem import WordNetLemmatizer\n",
    "\n",
    "from tensorflow.keras.models import Sequential\n",
    "from tensorflow.keras.layers import Embedding, Conv1D, GlobalMaxPooling1D, Dense"
   ]
  },
  {
   "cell_type": "code",
   "execution_count": 33,
   "id": "6fc737b9-b572-4867-bd55-31e39aa81af1",
   "metadata": {},
   "outputs": [],
   "source": [
    "output_dim = 16\n",
    "max_input_length = X.shape[1]\n",
    "\n",
    "# Define model\n",
    "model = tf.keras.Sequential()\n",
    "model.add(tf.keras.layers.Embedding(input_dim=max_features, output_dim=output_dim))\n",
    "model.add(Conv1D(128, 5, activation='relu'))\n",
    "model.add(tf.keras.layers.Dropout(0.5))\n",
    "model.add(tf.keras.layers.GlobalAveragePooling1D())\n",
    "model.add(tf.keras.layers.Dense(16, activation='relu'))\n",
    "model.add(tf.keras.layers.Dense(num_classes, activation='softmax'))\n",
    "\n",
    "# Compile model\n",
    "model.compile(loss=tf.keras.losses.SparseCategoricalCrossentropy(), \n",
    "              optimizer=tf.keras.optimizers.Adam(1e-4), metrics=[\"accuracy\"])\n"
   ]
  },
  {
   "cell_type": "code",
   "execution_count": 40,
   "id": "13494384",
   "metadata": {},
   "outputs": [
    {
     "data": {
      "text/html": [
       "<pre style=\"white-space:pre;overflow-x:auto;line-height:normal;font-family:Menlo,'DejaVu Sans Mono',consolas,'Courier New',monospace\"><span style=\"font-weight: bold\">Model: \"sequential_3\"</span>\n",
       "</pre>\n"
      ],
      "text/plain": [
       "\u001b[1mModel: \"sequential_3\"\u001b[0m\n"
      ]
     },
     "metadata": {},
     "output_type": "display_data"
    },
    {
     "data": {
      "text/html": [
       "<pre style=\"white-space:pre;overflow-x:auto;line-height:normal;font-family:Menlo,'DejaVu Sans Mono',consolas,'Courier New',monospace\">┏━━━━━━━━━━━━━━━━━━━━━━━━━━━━━━━━━┳━━━━━━━━━━━━━━━━━━━━━━━━┳━━━━━━━━━━━━━━━┓\n",
       "┃<span style=\"font-weight: bold\"> Layer (type)                    </span>┃<span style=\"font-weight: bold\"> Output Shape           </span>┃<span style=\"font-weight: bold\">       Param # </span>┃\n",
       "┡━━━━━━━━━━━━━━━━━━━━━━━━━━━━━━━━━╇━━━━━━━━━━━━━━━━━━━━━━━━╇━━━━━━━━━━━━━━━┩\n",
       "│ embedding_2 (<span style=\"color: #0087ff; text-decoration-color: #0087ff\">Embedding</span>)         │ (<span style=\"color: #00af00; text-decoration-color: #00af00\">8</span>, <span style=\"color: #00af00; text-decoration-color: #00af00\">1133</span>, <span style=\"color: #00af00; text-decoration-color: #00af00\">16</span>)          │       <span style=\"color: #00af00; text-decoration-color: #00af00\">160,000</span> │\n",
       "├─────────────────────────────────┼────────────────────────┼───────────────┤\n",
       "│ conv1d (<span style=\"color: #0087ff; text-decoration-color: #0087ff\">Conv1D</span>)                 │ (<span style=\"color: #00af00; text-decoration-color: #00af00\">8</span>, <span style=\"color: #00af00; text-decoration-color: #00af00\">1129</span>, <span style=\"color: #00af00; text-decoration-color: #00af00\">128</span>)         │        <span style=\"color: #00af00; text-decoration-color: #00af00\">10,368</span> │\n",
       "├─────────────────────────────────┼────────────────────────┼───────────────┤\n",
       "│ dropout (<span style=\"color: #0087ff; text-decoration-color: #0087ff\">Dropout</span>)               │ (<span style=\"color: #00af00; text-decoration-color: #00af00\">8</span>, <span style=\"color: #00af00; text-decoration-color: #00af00\">1129</span>, <span style=\"color: #00af00; text-decoration-color: #00af00\">128</span>)         │             <span style=\"color: #00af00; text-decoration-color: #00af00\">0</span> │\n",
       "├─────────────────────────────────┼────────────────────────┼───────────────┤\n",
       "│ global_average_pooling1d        │ (<span style=\"color: #00af00; text-decoration-color: #00af00\">8</span>, <span style=\"color: #00af00; text-decoration-color: #00af00\">128</span>)               │             <span style=\"color: #00af00; text-decoration-color: #00af00\">0</span> │\n",
       "│ (<span style=\"color: #0087ff; text-decoration-color: #0087ff\">GlobalAveragePooling1D</span>)        │                        │               │\n",
       "├─────────────────────────────────┼────────────────────────┼───────────────┤\n",
       "│ dense (<span style=\"color: #0087ff; text-decoration-color: #0087ff\">Dense</span>)                   │ (<span style=\"color: #00af00; text-decoration-color: #00af00\">8</span>, <span style=\"color: #00af00; text-decoration-color: #00af00\">16</span>)                │         <span style=\"color: #00af00; text-decoration-color: #00af00\">2,064</span> │\n",
       "├─────────────────────────────────┼────────────────────────┼───────────────┤\n",
       "│ dense_1 (<span style=\"color: #0087ff; text-decoration-color: #0087ff\">Dense</span>)                 │ (<span style=\"color: #00af00; text-decoration-color: #00af00\">8</span>, <span style=\"color: #00af00; text-decoration-color: #00af00\">2</span>)                 │            <span style=\"color: #00af00; text-decoration-color: #00af00\">34</span> │\n",
       "└─────────────────────────────────┴────────────────────────┴───────────────┘\n",
       "</pre>\n"
      ],
      "text/plain": [
       "┏━━━━━━━━━━━━━━━━━━━━━━━━━━━━━━━━━┳━━━━━━━━━━━━━━━━━━━━━━━━┳━━━━━━━━━━━━━━━┓\n",
       "┃\u001b[1m \u001b[0m\u001b[1mLayer (type)                   \u001b[0m\u001b[1m \u001b[0m┃\u001b[1m \u001b[0m\u001b[1mOutput Shape          \u001b[0m\u001b[1m \u001b[0m┃\u001b[1m \u001b[0m\u001b[1m      Param #\u001b[0m\u001b[1m \u001b[0m┃\n",
       "┡━━━━━━━━━━━━━━━━━━━━━━━━━━━━━━━━━╇━━━━━━━━━━━━━━━━━━━━━━━━╇━━━━━━━━━━━━━━━┩\n",
       "│ embedding_2 (\u001b[38;5;33mEmbedding\u001b[0m)         │ (\u001b[38;5;34m8\u001b[0m, \u001b[38;5;34m1133\u001b[0m, \u001b[38;5;34m16\u001b[0m)          │       \u001b[38;5;34m160,000\u001b[0m │\n",
       "├─────────────────────────────────┼────────────────────────┼───────────────┤\n",
       "│ conv1d (\u001b[38;5;33mConv1D\u001b[0m)                 │ (\u001b[38;5;34m8\u001b[0m, \u001b[38;5;34m1129\u001b[0m, \u001b[38;5;34m128\u001b[0m)         │        \u001b[38;5;34m10,368\u001b[0m │\n",
       "├─────────────────────────────────┼────────────────────────┼───────────────┤\n",
       "│ dropout (\u001b[38;5;33mDropout\u001b[0m)               │ (\u001b[38;5;34m8\u001b[0m, \u001b[38;5;34m1129\u001b[0m, \u001b[38;5;34m128\u001b[0m)         │             \u001b[38;5;34m0\u001b[0m │\n",
       "├─────────────────────────────────┼────────────────────────┼───────────────┤\n",
       "│ global_average_pooling1d        │ (\u001b[38;5;34m8\u001b[0m, \u001b[38;5;34m128\u001b[0m)               │             \u001b[38;5;34m0\u001b[0m │\n",
       "│ (\u001b[38;5;33mGlobalAveragePooling1D\u001b[0m)        │                        │               │\n",
       "├─────────────────────────────────┼────────────────────────┼───────────────┤\n",
       "│ dense (\u001b[38;5;33mDense\u001b[0m)                   │ (\u001b[38;5;34m8\u001b[0m, \u001b[38;5;34m16\u001b[0m)                │         \u001b[38;5;34m2,064\u001b[0m │\n",
       "├─────────────────────────────────┼────────────────────────┼───────────────┤\n",
       "│ dense_1 (\u001b[38;5;33mDense\u001b[0m)                 │ (\u001b[38;5;34m8\u001b[0m, \u001b[38;5;34m2\u001b[0m)                 │            \u001b[38;5;34m34\u001b[0m │\n",
       "└─────────────────────────────────┴────────────────────────┴───────────────┘\n"
      ]
     },
     "metadata": {},
     "output_type": "display_data"
    },
    {
     "data": {
      "text/html": [
       "<pre style=\"white-space:pre;overflow-x:auto;line-height:normal;font-family:Menlo,'DejaVu Sans Mono',consolas,'Courier New',monospace\"><span style=\"font-weight: bold\"> Total params: </span><span style=\"color: #00af00; text-decoration-color: #00af00\">517,400</span> (1.97 MB)\n",
       "</pre>\n"
      ],
      "text/plain": [
       "\u001b[1m Total params: \u001b[0m\u001b[38;5;34m517,400\u001b[0m (1.97 MB)\n"
      ]
     },
     "metadata": {},
     "output_type": "display_data"
    },
    {
     "data": {
      "text/html": [
       "<pre style=\"white-space:pre;overflow-x:auto;line-height:normal;font-family:Menlo,'DejaVu Sans Mono',consolas,'Courier New',monospace\"><span style=\"font-weight: bold\"> Trainable params: </span><span style=\"color: #00af00; text-decoration-color: #00af00\">172,466</span> (673.70 KB)\n",
       "</pre>\n"
      ],
      "text/plain": [
       "\u001b[1m Trainable params: \u001b[0m\u001b[38;5;34m172,466\u001b[0m (673.70 KB)\n"
      ]
     },
     "metadata": {},
     "output_type": "display_data"
    },
    {
     "data": {
      "text/html": [
       "<pre style=\"white-space:pre;overflow-x:auto;line-height:normal;font-family:Menlo,'DejaVu Sans Mono',consolas,'Courier New',monospace\"><span style=\"font-weight: bold\"> Non-trainable params: </span><span style=\"color: #00af00; text-decoration-color: #00af00\">0</span> (0.00 B)\n",
       "</pre>\n"
      ],
      "text/plain": [
       "\u001b[1m Non-trainable params: \u001b[0m\u001b[38;5;34m0\u001b[0m (0.00 B)\n"
      ]
     },
     "metadata": {},
     "output_type": "display_data"
    },
    {
     "data": {
      "text/html": [
       "<pre style=\"white-space:pre;overflow-x:auto;line-height:normal;font-family:Menlo,'DejaVu Sans Mono',consolas,'Courier New',monospace\"><span style=\"font-weight: bold\"> Optimizer params: </span><span style=\"color: #00af00; text-decoration-color: #00af00\">344,934</span> (1.32 MB)\n",
       "</pre>\n"
      ],
      "text/plain": [
       "\u001b[1m Optimizer params: \u001b[0m\u001b[38;5;34m344,934\u001b[0m (1.32 MB)\n"
      ]
     },
     "metadata": {},
     "output_type": "display_data"
    }
   ],
   "source": [
    "model.summary()"
   ]
  },
  {
   "cell_type": "code",
   "execution_count": 35,
   "id": "9bd89bed",
   "metadata": {},
   "outputs": [
    {
     "name": "stdout",
     "output_type": "stream",
     "text": [
      "Epoch 1/7\n",
      "\u001b[1m2000/2000\u001b[0m \u001b[32m━━━━━━━━━━━━━━━━━━━━\u001b[0m\u001b[37m\u001b[0m \u001b[1m13s\u001b[0m 6ms/step - accuracy: 0.5014 - loss: 0.6932 - val_accuracy: 0.6345 - val_loss: 0.6878\n",
      "Epoch 2/7\n",
      "\u001b[1m2000/2000\u001b[0m \u001b[32m━━━━━━━━━━━━━━━━━━━━\u001b[0m\u001b[37m\u001b[0m \u001b[1m15s\u001b[0m 7ms/step - accuracy: 0.6741 - loss: 0.6616 - val_accuracy: 0.7803 - val_loss: 0.5275\n",
      "Epoch 3/7\n",
      "\u001b[1m2000/2000\u001b[0m \u001b[32m━━━━━━━━━━━━━━━━━━━━\u001b[0m\u001b[37m\u001b[0m \u001b[1m16s\u001b[0m 8ms/step - accuracy: 0.8328 - loss: 0.4623 - val_accuracy: 0.8605 - val_loss: 0.3599\n",
      "Epoch 4/7\n",
      "\u001b[1m2000/2000\u001b[0m \u001b[32m━━━━━━━━━━━━━━━━━━━━\u001b[0m\u001b[37m\u001b[0m \u001b[1m16s\u001b[0m 8ms/step - accuracy: 0.8909 - loss: 0.3060 - val_accuracy: 0.8848 - val_loss: 0.3108\n",
      "Epoch 5/7\n",
      "\u001b[1m2000/2000\u001b[0m \u001b[32m━━━━━━━━━━━━━━━━━━━━\u001b[0m\u001b[37m\u001b[0m \u001b[1m16s\u001b[0m 8ms/step - accuracy: 0.9064 - loss: 0.2489 - val_accuracy: 0.8870 - val_loss: 0.2913\n",
      "Epoch 6/7\n",
      "\u001b[1m2000/2000\u001b[0m \u001b[32m━━━━━━━━━━━━━━━━━━━━\u001b[0m\u001b[37m\u001b[0m \u001b[1m17s\u001b[0m 8ms/step - accuracy: 0.9204 - loss: 0.2222 - val_accuracy: 0.8892 - val_loss: 0.2867\n",
      "Epoch 7/7\n",
      "\u001b[1m2000/2000\u001b[0m \u001b[32m━━━━━━━━━━━━━━━━━━━━\u001b[0m\u001b[37m\u001b[0m \u001b[1m17s\u001b[0m 8ms/step - accuracy: 0.9313 - loss: 0.1923 - val_accuracy: 0.8947 - val_loss: 0.2838\n"
     ]
    }
   ],
   "source": [
    "history_1 = model.fit(X_train, y_train,batch_size=8,epochs=7, validation_data=(X_val, y_val))"
   ]
  },
  {
   "cell_type": "code",
   "execution_count": 36,
   "id": "3f72de00",
   "metadata": {},
   "outputs": [
    {
     "name": "stdout",
     "output_type": "stream",
     "text": [
      "\u001b[1m157/157\u001b[0m \u001b[32m━━━━━━━━━━━━━━━━━━━━\u001b[0m\u001b[37m\u001b[0m \u001b[1m1s\u001b[0m 4ms/step\n",
      " \n",
      "Results\n",
      "Accuracy: 0.90\n",
      " \n",
      "              precision    recall  f1-score   support\n",
      "\n",
      "           0       0.89      0.87      0.88      2463\n",
      "           1       0.88      0.89      0.89      2537\n",
      "\n",
      "    accuracy                           0.88      5000\n",
      "   macro avg       0.88      0.88      0.88      5000\n",
      "weighted avg       0.88      0.88      0.88      5000\n",
      "\n"
     ]
    }
   ],
   "source": [
    "probabilities = model.predict(X_test)\n",
    "\n",
    "pred = np.argmax(probabilities, axis=1)\n",
    "\n",
    "print(\" \")\n",
    "print(\"Results\")\n",
    "\n",
    "accuracy = accuracy_score(y_test, pred)\n",
    "accuracy = round(accuracy,1)\n",
    "\n",
    "print('Accuracy: {:.2f}'.format(accuracy))\n",
    "print(\" \")\n",
    "print(classification_report(y_test, pred))"
   ]
  },
  {
   "cell_type": "code",
   "execution_count": 37,
   "id": "98b4e58c",
   "metadata": {},
   "outputs": [
    {
     "data": {
      "image/png": "[encoded data removed]",
      "text/plain": [
       "<Figure size 640x480 with 1 Axes>"
      ]
     },
     "metadata": {},
     "output_type": "display_data"
    }
   ],
   "source": [
    "from matplotlib import pyplot as plt\n",
    "plt.plot(history_1.history['loss'])\n",
    "plt.plot(history_1.history['val_loss'])\n",
    "plt.title('Model Loss')\n",
    "plt.ylabel('Loss')\n",
    "plt.xlabel('Epoch')\n",
    "plt.legend(['Training', 'Validation'], loc='upper left')\n",
    "plt.show()"
   ]
  },
  {
   "cell_type": "code",
   "execution_count": 38,
   "id": "56f0a4de",
   "metadata": {},
   "outputs": [
    {
     "data": {
      "image/png": "[encoded data removed]",
      "text/plain": [
       "<Figure size 640x480 with 1 Axes>"
      ]
     },
     "metadata": {},
     "output_type": "display_data"
    }
   ],
   "source": [
    "from matplotlib import pyplot as plt\n",
    "plt.plot(history_1.history['accuracy'])\n",
    "plt.plot(history_1.history['val_accuracy'])\n",
    "plt.title('Model Accuracy')\n",
    "plt.ylabel('Accuracy')\n",
    "plt.xlabel('Epoch')\n",
    "plt.legend(['Training', 'Validation'], loc='upper left')\n",
    "plt.show()"
   ]
  },
  {
   "cell_type": "code",
   "execution_count": null,
   "id": "1e582dfb",
   "metadata": {},
   "outputs": [],
   "source": []
  },
  {
   "cell_type": "code",
   "execution_count": null,
   "id": "d12b2432-e98d-47bd-ba22-58436eeb4383",
   "metadata": {},
   "outputs": [],
   "source": []
  }
 ],
 "metadata": {
  "kernelspec": {
   "display_name": "Python 3 (ipykernel)",
   "language": "python",
   "name": "python3"
  },
  "language_info": {
   "codemirror_mode": {
    "name": "ipython",
    "version": 3
   },
   "file_extension": ".py",
   "mimetype": "text/x-python",
   "name": "python",
   "nbconvert_exporter": "python",
   "pygments_lexer": "ipython3",
   "version": "3.9.13"
  }
 },
 "nbformat": 4,
 "nbformat_minor": 5
}
